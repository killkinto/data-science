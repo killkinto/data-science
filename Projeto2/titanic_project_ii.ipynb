{
 "cells": [
  {
   "cell_type": "markdown",
   "metadata": {},
   "source": [
    "# TITANIC - Projeto II\n",
    "### Introdução\n",
    "Com base levantados nesta [fonte](https://www.kaggle.com/c/titanic/data), será avaliado relações dos sobreviventes e dos que pereceram da tragédia com sua idade, classe que pertenciam no navio, sexo, faixa etária e o porto de onde embarcaram."
   ]
  },
  {
   "cell_type": "code",
   "execution_count": 1,
   "metadata": {},
   "outputs": [],
   "source": [
    "# Importando dependências\n",
    "import pandas as pd\n",
    "import numpy as np\n",
    "import matplotlib.pyplot as plt\n",
    "import seaborn as sns\n",
    "%matplotlib inline\n",
    "\n",
    "sns.set_style('darkgrid')"
   ]
  },
  {
   "cell_type": "code",
   "execution_count": 2,
   "metadata": {},
   "outputs": [
    {
     "data": {
      "text/html": [
       "<div>\n",
       "<style scoped>\n",
       "    .dataframe tbody tr th:only-of-type {\n",
       "        vertical-align: middle;\n",
       "    }\n",
       "\n",
       "    .dataframe tbody tr th {\n",
       "        vertical-align: top;\n",
       "    }\n",
       "\n",
       "    .dataframe thead th {\n",
       "        text-align: right;\n",
       "    }\n",
       "</style>\n",
       "<table border=\"1\" class=\"dataframe\">\n",
       "  <thead>\n",
       "    <tr style=\"text-align: right;\">\n",
       "      <th></th>\n",
       "      <th>Survived</th>\n",
       "      <th>Pclass</th>\n",
       "      <th>Name</th>\n",
       "      <th>Sex</th>\n",
       "      <th>Age</th>\n",
       "      <th>SibSp</th>\n",
       "      <th>Parch</th>\n",
       "      <th>Ticket</th>\n",
       "      <th>Fare</th>\n",
       "      <th>Cabin</th>\n",
       "      <th>Embarked</th>\n",
       "    </tr>\n",
       "  </thead>\n",
       "  <tbody>\n",
       "    <tr>\n",
       "      <th>0</th>\n",
       "      <td>0</td>\n",
       "      <td>3</td>\n",
       "      <td>Braund, Mr. Owen Harris</td>\n",
       "      <td>male</td>\n",
       "      <td>22.0</td>\n",
       "      <td>1</td>\n",
       "      <td>0</td>\n",
       "      <td>A/5 21171</td>\n",
       "      <td>7.2500</td>\n",
       "      <td>NaN</td>\n",
       "      <td>S</td>\n",
       "    </tr>\n",
       "    <tr>\n",
       "      <th>1</th>\n",
       "      <td>1</td>\n",
       "      <td>1</td>\n",
       "      <td>Cumings, Mrs. John Bradley (Florence Briggs Th...</td>\n",
       "      <td>female</td>\n",
       "      <td>38.0</td>\n",
       "      <td>1</td>\n",
       "      <td>0</td>\n",
       "      <td>PC 17599</td>\n",
       "      <td>71.2833</td>\n",
       "      <td>C85</td>\n",
       "      <td>C</td>\n",
       "    </tr>\n",
       "    <tr>\n",
       "      <th>2</th>\n",
       "      <td>1</td>\n",
       "      <td>3</td>\n",
       "      <td>Heikkinen, Miss. Laina</td>\n",
       "      <td>female</td>\n",
       "      <td>26.0</td>\n",
       "      <td>0</td>\n",
       "      <td>0</td>\n",
       "      <td>STON/O2. 3101282</td>\n",
       "      <td>7.9250</td>\n",
       "      <td>NaN</td>\n",
       "      <td>S</td>\n",
       "    </tr>\n",
       "    <tr>\n",
       "      <th>3</th>\n",
       "      <td>1</td>\n",
       "      <td>1</td>\n",
       "      <td>Futrelle, Mrs. Jacques Heath (Lily May Peel)</td>\n",
       "      <td>female</td>\n",
       "      <td>35.0</td>\n",
       "      <td>1</td>\n",
       "      <td>0</td>\n",
       "      <td>113803</td>\n",
       "      <td>53.1000</td>\n",
       "      <td>C123</td>\n",
       "      <td>S</td>\n",
       "    </tr>\n",
       "    <tr>\n",
       "      <th>4</th>\n",
       "      <td>0</td>\n",
       "      <td>3</td>\n",
       "      <td>Allen, Mr. William Henry</td>\n",
       "      <td>male</td>\n",
       "      <td>35.0</td>\n",
       "      <td>0</td>\n",
       "      <td>0</td>\n",
       "      <td>373450</td>\n",
       "      <td>8.0500</td>\n",
       "      <td>NaN</td>\n",
       "      <td>S</td>\n",
       "    </tr>\n",
       "  </tbody>\n",
       "</table>\n",
       "</div>"
      ],
      "text/plain": [
       "   Survived  Pclass                                               Name  \\\n",
       "0         0       3                            Braund, Mr. Owen Harris   \n",
       "1         1       1  Cumings, Mrs. John Bradley (Florence Briggs Th...   \n",
       "2         1       3                             Heikkinen, Miss. Laina   \n",
       "3         1       1       Futrelle, Mrs. Jacques Heath (Lily May Peel)   \n",
       "4         0       3                           Allen, Mr. William Henry   \n",
       "\n",
       "      Sex   Age  SibSp  Parch            Ticket     Fare Cabin Embarked  \n",
       "0    male  22.0      1      0         A/5 21171   7.2500   NaN        S  \n",
       "1  female  38.0      1      0          PC 17599  71.2833   C85        C  \n",
       "2  female  26.0      0      0  STON/O2. 3101282   7.9250   NaN        S  \n",
       "3  female  35.0      1      0            113803  53.1000  C123        S  \n",
       "4    male  35.0      0      0            373450   8.0500   NaN        S  "
      ]
     },
     "execution_count": 2,
     "metadata": {},
     "output_type": "execute_result"
    }
   ],
   "source": [
    "# Carregando os dados\n",
    "df = pd.read_csv('titanic-data-6.csv')\n",
    "df = df.drop(df.columns[0], axis=1)\n",
    "df.head()"
   ]
  },
  {
   "cell_type": "markdown",
   "metadata": {},
   "source": [
    "## Perguntas\n",
    "1. Com base nos dados, quantos sobreviveram e quantos não?\n",
    "9. Qual a idade média dos sobreviventes e dos não sobreviventes?\n",
    "9. Qual a relação de sobreviventes e não sobreviventes por classe?\n",
    "9. Qual a relação de sobreviventes e não sobreviventes por sexo?\n",
    "9. Qual a faixa etária com mais sobreviventes e dos não sobreviventes?"
   ]
  },
  {
   "cell_type": "markdown",
   "metadata": {},
   "source": [
    "## Limpeza dos dados\n",
    "Os dados \"Ticket\", \"Fare\", \"Cabin\", \"Sib Sp\" e \"Parch\" serão removidos, pois não terão utilizades para os questionamentos levantados. Além disso, serão removidos registros que não contém a idade do passageiro."
   ]
  },
  {
   "cell_type": "code",
   "execution_count": 3,
   "metadata": {},
   "outputs": [
    {
     "data": {
      "text/html": [
       "<div>\n",
       "<style scoped>\n",
       "    .dataframe tbody tr th:only-of-type {\n",
       "        vertical-align: middle;\n",
       "    }\n",
       "\n",
       "    .dataframe tbody tr th {\n",
       "        vertical-align: top;\n",
       "    }\n",
       "\n",
       "    .dataframe thead th {\n",
       "        text-align: right;\n",
       "    }\n",
       "</style>\n",
       "<table border=\"1\" class=\"dataframe\">\n",
       "  <thead>\n",
       "    <tr style=\"text-align: right;\">\n",
       "      <th></th>\n",
       "      <th>survived</th>\n",
       "      <th>pclass</th>\n",
       "      <th>name</th>\n",
       "      <th>sex</th>\n",
       "      <th>age</th>\n",
       "      <th>sibsp</th>\n",
       "      <th>parch</th>\n",
       "      <th>ticket</th>\n",
       "      <th>fare</th>\n",
       "      <th>cabin</th>\n",
       "      <th>embarked</th>\n",
       "    </tr>\n",
       "  </thead>\n",
       "  <tbody>\n",
       "    <tr>\n",
       "      <th>0</th>\n",
       "      <td>0</td>\n",
       "      <td>3</td>\n",
       "      <td>Braund, Mr. Owen Harris</td>\n",
       "      <td>male</td>\n",
       "      <td>22.0</td>\n",
       "      <td>1</td>\n",
       "      <td>0</td>\n",
       "      <td>A/5 21171</td>\n",
       "      <td>7.2500</td>\n",
       "      <td>NaN</td>\n",
       "      <td>S</td>\n",
       "    </tr>\n",
       "    <tr>\n",
       "      <th>1</th>\n",
       "      <td>1</td>\n",
       "      <td>1</td>\n",
       "      <td>Cumings, Mrs. John Bradley (Florence Briggs Th...</td>\n",
       "      <td>female</td>\n",
       "      <td>38.0</td>\n",
       "      <td>1</td>\n",
       "      <td>0</td>\n",
       "      <td>PC 17599</td>\n",
       "      <td>71.2833</td>\n",
       "      <td>C85</td>\n",
       "      <td>C</td>\n",
       "    </tr>\n",
       "    <tr>\n",
       "      <th>2</th>\n",
       "      <td>1</td>\n",
       "      <td>3</td>\n",
       "      <td>Heikkinen, Miss. Laina</td>\n",
       "      <td>female</td>\n",
       "      <td>26.0</td>\n",
       "      <td>0</td>\n",
       "      <td>0</td>\n",
       "      <td>STON/O2. 3101282</td>\n",
       "      <td>7.9250</td>\n",
       "      <td>NaN</td>\n",
       "      <td>S</td>\n",
       "    </tr>\n",
       "    <tr>\n",
       "      <th>3</th>\n",
       "      <td>1</td>\n",
       "      <td>1</td>\n",
       "      <td>Futrelle, Mrs. Jacques Heath (Lily May Peel)</td>\n",
       "      <td>female</td>\n",
       "      <td>35.0</td>\n",
       "      <td>1</td>\n",
       "      <td>0</td>\n",
       "      <td>113803</td>\n",
       "      <td>53.1000</td>\n",
       "      <td>C123</td>\n",
       "      <td>S</td>\n",
       "    </tr>\n",
       "    <tr>\n",
       "      <th>4</th>\n",
       "      <td>0</td>\n",
       "      <td>3</td>\n",
       "      <td>Allen, Mr. William Henry</td>\n",
       "      <td>male</td>\n",
       "      <td>35.0</td>\n",
       "      <td>0</td>\n",
       "      <td>0</td>\n",
       "      <td>373450</td>\n",
       "      <td>8.0500</td>\n",
       "      <td>NaN</td>\n",
       "      <td>S</td>\n",
       "    </tr>\n",
       "  </tbody>\n",
       "</table>\n",
       "</div>"
      ],
      "text/plain": [
       "   survived  pclass                                               name  \\\n",
       "0         0       3                            Braund, Mr. Owen Harris   \n",
       "1         1       1  Cumings, Mrs. John Bradley (Florence Briggs Th...   \n",
       "2         1       3                             Heikkinen, Miss. Laina   \n",
       "3         1       1       Futrelle, Mrs. Jacques Heath (Lily May Peel)   \n",
       "4         0       3                           Allen, Mr. William Henry   \n",
       "\n",
       "      sex   age  sibsp  parch            ticket     fare cabin embarked  \n",
       "0    male  22.0      1      0         A/5 21171   7.2500   NaN        S  \n",
       "1  female  38.0      1      0          PC 17599  71.2833   C85        C  \n",
       "2  female  26.0      0      0  STON/O2. 3101282   7.9250   NaN        S  \n",
       "3  female  35.0      1      0            113803  53.1000  C123        S  \n",
       "4    male  35.0      0      0            373450   8.0500   NaN        S  "
      ]
     },
     "execution_count": 3,
     "metadata": {},
     "output_type": "execute_result"
    }
   ],
   "source": [
    "# Renomeando as colunas\n",
    "df.rename(columns=lambda x: x.strip().lower().replace(' ', '_'), inplace=True)\n",
    "df.head()"
   ]
  },
  {
   "cell_type": "code",
   "execution_count": 4,
   "metadata": {},
   "outputs": [
    {
     "data": {
      "text/html": [
       "<div>\n",
       "<style scoped>\n",
       "    .dataframe tbody tr th:only-of-type {\n",
       "        vertical-align: middle;\n",
       "    }\n",
       "\n",
       "    .dataframe tbody tr th {\n",
       "        vertical-align: top;\n",
       "    }\n",
       "\n",
       "    .dataframe thead th {\n",
       "        text-align: right;\n",
       "    }\n",
       "</style>\n",
       "<table border=\"1\" class=\"dataframe\">\n",
       "  <thead>\n",
       "    <tr style=\"text-align: right;\">\n",
       "      <th></th>\n",
       "      <th>survived</th>\n",
       "      <th>pclass</th>\n",
       "      <th>name</th>\n",
       "      <th>sex</th>\n",
       "      <th>age</th>\n",
       "      <th>embarked</th>\n",
       "    </tr>\n",
       "  </thead>\n",
       "  <tbody>\n",
       "    <tr>\n",
       "      <th>0</th>\n",
       "      <td>0</td>\n",
       "      <td>3</td>\n",
       "      <td>Braund, Mr. Owen Harris</td>\n",
       "      <td>male</td>\n",
       "      <td>22.0</td>\n",
       "      <td>S</td>\n",
       "    </tr>\n",
       "    <tr>\n",
       "      <th>1</th>\n",
       "      <td>1</td>\n",
       "      <td>1</td>\n",
       "      <td>Cumings, Mrs. John Bradley (Florence Briggs Th...</td>\n",
       "      <td>female</td>\n",
       "      <td>38.0</td>\n",
       "      <td>C</td>\n",
       "    </tr>\n",
       "    <tr>\n",
       "      <th>2</th>\n",
       "      <td>1</td>\n",
       "      <td>3</td>\n",
       "      <td>Heikkinen, Miss. Laina</td>\n",
       "      <td>female</td>\n",
       "      <td>26.0</td>\n",
       "      <td>S</td>\n",
       "    </tr>\n",
       "    <tr>\n",
       "      <th>3</th>\n",
       "      <td>1</td>\n",
       "      <td>1</td>\n",
       "      <td>Futrelle, Mrs. Jacques Heath (Lily May Peel)</td>\n",
       "      <td>female</td>\n",
       "      <td>35.0</td>\n",
       "      <td>S</td>\n",
       "    </tr>\n",
       "    <tr>\n",
       "      <th>4</th>\n",
       "      <td>0</td>\n",
       "      <td>3</td>\n",
       "      <td>Allen, Mr. William Henry</td>\n",
       "      <td>male</td>\n",
       "      <td>35.0</td>\n",
       "      <td>S</td>\n",
       "    </tr>\n",
       "  </tbody>\n",
       "</table>\n",
       "</div>"
      ],
      "text/plain": [
       "   survived  pclass                                               name  \\\n",
       "0         0       3                            Braund, Mr. Owen Harris   \n",
       "1         1       1  Cumings, Mrs. John Bradley (Florence Briggs Th...   \n",
       "2         1       3                             Heikkinen, Miss. Laina   \n",
       "3         1       1       Futrelle, Mrs. Jacques Heath (Lily May Peel)   \n",
       "4         0       3                           Allen, Mr. William Henry   \n",
       "\n",
       "      sex   age embarked  \n",
       "0    male  22.0        S  \n",
       "1  female  38.0        C  \n",
       "2  female  26.0        S  \n",
       "3  female  35.0        S  \n",
       "4    male  35.0        S  "
      ]
     },
     "execution_count": 4,
     "metadata": {},
     "output_type": "execute_result"
    }
   ],
   "source": [
    "# Removendo colunas que não serão usadas\n",
    "df.drop(['sibsp', 'parch', 'ticket', 'fare', 'cabin'], axis=1, inplace=True)\n",
    "df.head()"
   ]
  },
  {
   "cell_type": "code",
   "execution_count": null,
   "metadata": {},
   "outputs": [
    {
     "name": "stdout",
     "output_type": "stream",
     "text": [
      "<class 'pandas.core.frame.DataFrame'>\n",
      "RangeIndex: 891 entries, 0 to 890\n",
      "Data columns (total 6 columns):\n",
      "survived    891 non-null int64\n",
      "pclass      891 non-null int64\n",
      "name        891 non-null object\n",
      "sex         891 non-null object\n",
      "age         714 non-null float64\n",
      "embarked    889 non-null object\n",
      "dtypes: float64(1), int64(2), object(3)\n",
      "memory usage: 41.8+ KB\n"
     ]
    }
   ],
   "source": [
    "# Verificando registros com dados faltantes\n",
    "df.info()"
   ]
  },
  {
   "cell_type": "code",
   "execution_count": null,
   "metadata": {},
   "outputs": [
    {
     "name": "stdout",
     "output_type": "stream",
     "text": [
      "<class 'pandas.core.frame.DataFrame'>\n",
      "Int64Index: 712 entries, 0 to 890\n",
      "Data columns (total 6 columns):\n",
      "survived    712 non-null int64\n",
      "pclass      712 non-null int64\n",
      "name        712 non-null object\n",
      "sex         712 non-null object\n",
      "age         712 non-null float64\n",
      "embarked    712 non-null object\n",
      "dtypes: float64(1), int64(2), object(3)\n",
      "memory usage: 38.9+ KB\n"
     ]
    }
   ],
   "source": [
    "# Removendo registros com a idade e porto de embarque faltantes\n",
    "df.dropna(inplace=True)\n",
    "df.info()"
   ]
  },
  {
   "cell_type": "code",
   "execution_count": null,
   "metadata": {},
   "outputs": [
    {
     "data": {
      "text/plain": [
       "0"
      ]
     },
     "execution_count": 7,
     "metadata": {},
     "output_type": "execute_result"
    }
   ],
   "source": [
    "# Verificando se há registros duplicados\n",
    "df.duplicated().sum()"
   ]
  },
  {
   "cell_type": "code",
   "execution_count": null,
   "metadata": {},
   "outputs": [],
   "source": [
    "# Salvando conjunto de dados modificado\n",
    "df.to_csv('titanic-clean.csv', index=False)"
   ]
  },
  {
   "cell_type": "markdown",
   "metadata": {},
   "source": [
    "## Separação dos dados\n",
    "Para facilitar a resposta dos questionamentos, o conjunto de dados principal será dividido em dois conjuntos: sobreviventes e não sobreviventes."
   ]
  },
  {
   "cell_type": "code",
   "execution_count": null,
   "metadata": {},
   "outputs": [],
   "source": [
    "df_survived = df.query('survived == 1')\n",
    "df_not_survived = df.query('survived == 0')\n",
    "df_survived.to_csv('titanic_survived.csv', index=False)\n",
    "df_not_survived.to_csv('titanic_not_survived.csv', index=False)"
   ]
  },
  {
   "cell_type": "markdown",
   "metadata": {},
   "source": [
    "## Análise\n"
   ]
  },
  {
   "cell_type": "code",
   "execution_count": null,
   "metadata": {},
   "outputs": [
    {
     "name": "stdout",
     "output_type": "stream",
     "text": [
      "288 sobreviventes e 424 não sobreviventes.\n"
     ]
    },
    {
     "data": {
      "image/png": "[encoded data removed]",
      "text/plain": [
       "<Figure size 432x288 with 1 Axes>"
      ]
     },
     "metadata": {},
     "output_type": "display_data"
    }
   ],
   "source": [
    "# Q1: Com base nos dados, quantos sobreviveram e quantos não?\n",
    "print(\"{0} sobreviventes e {1} não sobreviventes.\".format(df_survived.shape[0], df_not_survived.shape[0]))\n",
    "counts = [df_survived.shape[0]  / df.shape[0] * 100, df_not_survived.shape[0] / df.shape[0] * 100]\n",
    "labels = \"Sobreviventes\", \"Não sobreviventes\"\n",
    "plt.pie(counts, labels=labels, shadow=True, startangle=90, autopct='%1.2f%%')\n",
    "plt.title('Percentual de sobreviventes e não sobreviventes');\n"
   ]
  },
  {
   "cell_type": "code",
   "execution_count": null,
   "metadata": {},
   "outputs": [
    {
     "name": "stdout",
     "output_type": "stream",
     "text": [
      "Idade média dos sobreviventes: 28.19 anos. Idade média dos não sobreviventes: 30.63 anos. A média de idade foi aproximada.\n"
     ]
    }
   ],
   "source": [
    "# Q2: Qual a idade média dos sobreviventes e dos não sobreviventes?\n",
    "print(\"Idade média dos sobreviventes: {0} anos. Idade média dos não sobreviventes: {1} anos. A média de idade foi aproximada.\"\n",
    "      .format(round(df_survived.describe()['age']['mean'], 2), round(df_not_survived.describe()['age']['mean'], 2)))"
   ]
  },
  {
   "cell_type": "code",
   "execution_count": null,
   "metadata": {},
   "outputs": [],
   "source": [
    "# Q3: Qual a relação de sobreviventes e não sobreviventes por classe?\n",
    "\n",
    "# Contagem sobreviventes e não por classe\n",
    "df_survived_by_class = df_survived.groupby(\"pclass\")['survived'].count() / df.shape[0] * 100\n",
    "df_not_survived_by_class = df_not_survived.groupby(\"pclass\")['survived'].count() / df.shape[0] * 100\n",
    "# Localização no eixo x dos grupos\n",
    "ind = np.arange(len(df_survived_class))\n",
    "width = 0.3 #largura das barras\n",
    "#Definindo as barras do gráfico\n",
    "survived_bars = plt.bar(ind, df_survived_by_class, width, color='b', alpha=.5, label='Sobreviventes')\n",
    "not_survived_bars = plt.bar(ind + width, df_not_survived_by_class, width, color='r', alpha=.5, label='Não Sobreviveram')\n",
    "\n",
    "# Gerando o gráfico por classe\n",
    "plt.title('Relação de sobreviventes e não sobreviventes por classe')\n",
    "labels = ['Primeira', 'Segunda', 'Terceira']\n",
    "locations = ind + width / 2\n",
    "plt.xticks(locations, labels, fontsize=12)\n",
    "plt.ylabel('Porporção de passageiros(%)', fontsize=15)\n",
    "plt.xlabel('Classe', fontsize=20)\n",
    "plt.legend();"
   ]
  },
  {
   "cell_type": "code",
   "execution_count": null,
   "metadata": {},
   "outputs": [],
   "source": [
    "print('De acordo com o gráfico, pereceram mais passeiros da terceira classe')"
   ]
  },
  {
   "cell_type": "code",
   "execution_count": null,
   "metadata": {},
   "outputs": [],
   "source": [
    "# Q4: Qual a relação de sobreviventes e não sobreviventes por sexo?\n",
    "# Contagem sobreviventes e não por sexo\n",
    "df_survived_by_sex = df_survived.groupby(\"sex\")['survived'].count() / df.shape[0] * 100\n",
    "df_not_survived_by_sex = df_not_survived.groupby(\"sex\")['survived'].count() / df.shape[0] * 100\n",
    "# Localização no eixo x dos grupos\n",
    "ind = np.arange(len(df_survived_by_sex))\n",
    "width = 0.3 #largura das barras\n",
    "#Definindo as barras do gráfico\n",
    "survived_bars = plt.bar(ind, df_survived_by_sex, width, color='b', alpha=.5, label='Sobreviventes')#Barra dos sobreviventes\n",
    "not_survived_bars = plt.bar(ind + width, df_not_survived_by_sex, width, color='r', alpha=.5, label='Não Sobreviveram')#Barra dos não sobreviventes\n",
    "\n",
    "plt.title('Relação de sobreviventes e não sobreviventes por sexo')\n",
    "labels = ['Mulheres', 'Homens'] #Labels do eixo x\n",
    "locations = ind + width / 2 #Posição de cada barra\n",
    "plt.xticks(locations, labels, fontsize=12)\n",
    "plt.ylabel('Porporção de passageiros(%)', fontsize=15)\n",
    "plt.xlabel('Sexo', fontsize=20)\n",
    "plt.legend();"
   ]
  },
  {
   "cell_type": "code",
   "execution_count": null,
   "metadata": {},
   "outputs": [],
   "source": [
    "print('De acordo com o gráfico, a maioria dos homens não sobreviveram')"
   ]
  },
  {
   "cell_type": "code",
   "execution_count": null,
   "metadata": {
    "scrolled": true
   },
   "outputs": [],
   "source": [
    "#Q5: Qual a faixa etária com mais sobreviventes e dos não sobreviventes?\n",
    "\n",
    "# Definindo as faixa etárias\n",
    "bin_ages = [df['age'].describe()['min'], 1, 18, 60, df['age'].describe()['max']]\n",
    "# Rótulos para as faixas etárias\n",
    "bin_labels = ['Baby', 'Young', 'Adult', 'Old']\n",
    "df['age_group'] = pd.cut(df['age'], bin_ages, labels=bin_labels)\n",
    "df.head(15)"
   ]
  },
  {
   "cell_type": "code",
   "execution_count": null,
   "metadata": {},
   "outputs": [],
   "source": [
    "# Gerando gráfico em barras\n",
    "df_survived_by_age_group = df.query('survived == 1').groupby(\"age_group\")['survived'].count() / df.shape[0] * 100\n",
    "df_not_survived_by_age_group = df.query('survived == 0').groupby(\"age_group\")['survived'].count() / df.shape[0] * 100\n",
    "ind = np.arange(len(df_survived_by_age_group))\n",
    "survived_bars = plt.bar(ind, df_survived_by_age_group, width, color='b', alpha=.5, label='Sobreviventes')\n",
    "not_survived_bars = plt.bar(ind + width, df_not_survived_by_age_group, width, color='r', alpha=.5, label='Não Sobreviveram')\n",
    "\n",
    "plt.title('Relação de sobreviventes e não sobreviventes por faixa etária')\n",
    "labels = ['Bebê', 'Criança/Jovem', 'Adulto', 'Idoso']\n",
    "locations = ind + width / 2\n",
    "plt.xticks(locations, labels, fontsize=12)\n",
    "plt.ylabel('Porporção de passageiros(%)', fontsize=20)\n",
    "plt.xlabel('Faixa Etária', fontsize=20)\n",
    "plt.legend();"
   ]
  },
  {
   "cell_type": "code",
   "execution_count": null,
   "metadata": {},
   "outputs": [],
   "source": [
    "print('Como observado, a maioria de bebês e crianças sobreviveram. Quantos aos adultos, grande parte pereceram')"
   ]
  },
  {
   "cell_type": "markdown",
   "metadata": {},
   "source": [
    "## Resultados\n",
    "De acordo com a análise, a maioria pereceram na tragédia. Em relação a classe do passageiro, a maioria que sobreviveu era da primeira classe e dos que não sobreviveram, terceira classe. Provavelmente, conforme a fonte[2], devido aos poucos botes salva-vidas e, durante o naufrágio, foi definido uma ordem de retirada por classe. Além disso, muitos botes deixaram o navio com espaço para mais sobreviventes. A expressão \"Mulheres e crianças primeiro\" em um acidente fez jus nesta tragédia. Como observado nos gráficos, a maioria das mulheres e um número considerável de crianças sobreviveram."
   ]
  },
  {
   "cell_type": "markdown",
   "metadata": {},
   "source": [
    "## Problemas encontrados\n",
    "* Devidos a dados faltantes, alguns registros foram removidos da análise."
   ]
  },
  {
   "cell_type": "markdown",
   "metadata": {},
   "source": [
    "## Bibliografia\n",
    "* [1]Fonte dos dados: https://www.kaggle.com/c/titanic/data\n",
    "* [2]Fonte que auxiliou na análise do dados: https://pt.wikipedia.org/wiki/Naufr%C3%A1gio_do_RMS_Titanic\n",
    "* [3]Documentação do Pandas: https://pandas.pydata.org/\n",
    "* [4]Documentação do Matplotlib: https://matplotlib.org/index.html"
   ]
  },
  {
   "cell_type": "markdown",
   "metadata": {},
   "source": []
  }
 ],
 "metadata": {
  "kernelspec": {
   "display_name": "Python 3",
   "language": "python",
   "name": "python3"
  },
  "language_info": {
   "codemirror_mode": {
    "name": "ipython",
    "version": 3
   },
   "file_extension": ".py",
   "mimetype": "text/x-python",
   "name": "python",
   "nbconvert_exporter": "python",
   "pygments_lexer": "ipython3",
   "version": "3.7.1"
  }
 },
 "nbformat": 4,
 "nbformat_minor": 2
}
